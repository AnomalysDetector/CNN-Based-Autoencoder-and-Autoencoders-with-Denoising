{
 "cells": [
  {
   "cell_type": "code",
   "execution_count": 1,
   "metadata": {
    "colab": {},
    "colab_type": "code",
    "id": "NkYb6c9XyXhI"
   },
   "outputs": [
    {
     "name": "stderr",
     "output_type": "stream",
     "text": [
      "Using TensorFlow backend.\n"
     ]
    }
   ],
   "source": [
    "from keras.datasets import cifar10 # subroutines for fetching the CIFAR-10 dataset\n",
    "from keras.models import Model # basic class for specifying and training a neural network\n",
    "from keras.layers import Input, Convolution2D, MaxPooling2D, Dense, Dropout, Flatten\n",
    "from keras.utils import np_utils # utilities for one-hot encoding of ground truth values\n",
    "import numpy as np\n",
    "import pandas as pd\n",
    "\n",
    "from keras.callbacks import EarlyStopping\n",
    "from keras.datasets import cifar10\n",
    "from keras.models import Sequential\n",
    "from keras.layers.core import Dense, Dropout, Flatten\n",
    "from keras.layers.convolutional import Conv2D\n",
    "from keras.optimizers import Adam\n",
    "from keras.layers.pooling import MaxPooling2D\n",
    "from keras.utils import to_categorical\n",
    "\n",
    "import os\n",
    "\n",
    "os.environ['KMP_DUPLICATE_LIB_OK']='True'\n",
    "\n",
    "\n",
    "#from __future__ import print_function"
   ]
  },
  {
   "cell_type": "markdown",
   "metadata": {
    "colab_type": "text",
    "id": "cqU200-Pyo5e"
   },
   "source": [
    "We will build an autoencoder based on the mnist (hand written digits) dataset."
   ]
  },
  {
   "cell_type": "code",
   "execution_count": 2,
   "metadata": {
    "colab": {
     "base_uri": "https://localhost:8080/",
     "height": 51
    },
    "colab_type": "code",
    "executionInfo": {
     "elapsed": 2368,
     "status": "ok",
     "timestamp": 1536049078471,
     "user": {
      "displayName": "Shahar Cohen",
      "photoUrl": "//lh4.googleusercontent.com/-2U_qQryj6xw/AAAAAAAAAAI/AAAAAAAAADQ/MGjwPY42BgU/s50-c-k-no/photo.jpg",
      "userId": "114907857355936904602"
     },
     "user_tz": -180
    },
    "id": "K75oEFLQyexd",
    "outputId": "e610a0b2-f80c-47c8-eead-b6bb7ee10c25"
   },
   "outputs": [],
   "source": [
    "from keras.datasets import mnist\n",
    "import numpy as np\n",
    "(x_train, _), (x_test, _) = mnist.load_data()"
   ]
  },
  {
   "cell_type": "markdown",
   "metadata": {
    "colab_type": "text",
    "id": "2A9LHIAWy7w1"
   },
   "source": [
    "We will perform some basic pre-processing.\n",
    "We will normalize all values between 0 and 1 and we will flatten the 28x28 images into vectors of size 784."
   ]
  },
  {
   "cell_type": "code",
   "execution_count": 3,
   "metadata": {
    "colab": {
     "base_uri": "https://localhost:8080/",
     "height": 51
    },
    "colab_type": "code",
    "executionInfo": {
     "elapsed": 645,
     "status": "ok",
     "timestamp": 1536049127583,
     "user": {
      "displayName": "Shahar Cohen",
      "photoUrl": "//lh4.googleusercontent.com/-2U_qQryj6xw/AAAAAAAAAAI/AAAAAAAAADQ/MGjwPY42BgU/s50-c-k-no/photo.jpg",
      "userId": "114907857355936904602"
     },
     "user_tz": -180
    },
    "id": "EbnEX7HUy2h3",
    "outputId": "876657ad-6cd9-4ee2-8962-7cc3aa01a745"
   },
   "outputs": [
    {
     "name": "stdout",
     "output_type": "stream",
     "text": [
      "(60000, 784)\n",
      "(10000, 784)\n"
     ]
    }
   ],
   "source": [
    "x_train = x_train.astype('float32') / 255.\n",
    "x_test = x_test.astype('float32') / 255.\n",
    "x_train = x_train.reshape((len(x_train), np.prod(x_train.shape[1:])))\n",
    "x_test = x_test.reshape((len(x_test), np.prod(x_test.shape[1:])))\n",
    "print(x_train.shape)\n",
    "print(x_test.shape)"
   ]
  },
  {
   "cell_type": "markdown",
   "metadata": {
    "colab_type": "text",
    "id": "eJVTkSwbzQ8P"
   },
   "source": [
    "We'll start simple, with a single fully-connected neural layer as encoder and as decoder"
   ]
  },
  {
   "cell_type": "code",
   "execution_count": 4,
   "metadata": {
    "colab": {},
    "colab_type": "code",
    "id": "4dphTdj3zSNd"
   },
   "outputs": [],
   "source": [
    "from keras.layers import Input, Dense\n",
    "from keras.models import Model\n",
    "\n",
    "\n",
    "encoding_dim = 32  # 32 floats -> compression of factor 24.5, assuming the input is 784 floats (28X28 digits)\n",
    "\n",
    "\n",
    "input_img = Input(shape=(784,))\n",
    "encoded = Dense(encoding_dim, activation='relu')(input_img)\n",
    "decoded = Dense(784, activation='sigmoid')(encoded)"
   ]
  },
  {
   "cell_type": "code",
   "execution_count": 5,
   "metadata": {
    "colab": {},
    "colab_type": "code",
    "id": "0BUUD0pYz0An"
   },
   "outputs": [],
   "source": [
    "# this model maps an input to its reconstruction\n",
    "autoencoder = Model(input_img, decoded)\n",
    "\n",
    "# this model maps an input to its encoded representation\n",
    "encoder = Model(input_img, encoded)\n",
    "\n",
    "# creating a decoder model\n",
    "# create a placeholder for an encoded (32-dimensional) input\n",
    "encoded_input = Input(shape=(encoding_dim,))\n",
    "# retrieve the last layer of the autoencoder model\n",
    "decoder_layer = autoencoder.layers[-1]\n",
    "# create the decoder model\n",
    "decoder = Model(encoded_input, decoder_layer(encoded_input))"
   ]
  },
  {
   "cell_type": "code",
   "execution_count": 6,
   "metadata": {},
   "outputs": [
    {
     "data": {
      "text/plain": [
       "<tf.Tensor 'input_2:0' shape=(None, 32) dtype=float32>"
      ]
     },
     "execution_count": 6,
     "metadata": {},
     "output_type": "execute_result"
    }
   ],
   "source": [
    "encoded_input"
   ]
  },
  {
   "cell_type": "code",
   "execution_count": 7,
   "metadata": {
    "colab": {
     "base_uri": "https://localhost:8080/",
     "height": 238
    },
    "colab_type": "code",
    "executionInfo": {
     "elapsed": 620,
     "status": "ok",
     "timestamp": 1536049258884,
     "user": {
      "displayName": "Shahar Cohen",
      "photoUrl": "//lh4.googleusercontent.com/-2U_qQryj6xw/AAAAAAAAAAI/AAAAAAAAADQ/MGjwPY42BgU/s50-c-k-no/photo.jpg",
      "userId": "114907857355936904602"
     },
     "user_tz": -180
    },
    "id": "SbshtRqF0AkP",
    "outputId": "457f10f7-3482-46a3-d144-067578039392"
   },
   "outputs": [
    {
     "name": "stdout",
     "output_type": "stream",
     "text": [
      "Model: \"model_1\"\n",
      "_________________________________________________________________\n",
      "Layer (type)                 Output Shape              Param #   \n",
      "=================================================================\n",
      "input_1 (InputLayer)         (None, 784)               0         \n",
      "_________________________________________________________________\n",
      "dense_1 (Dense)              (None, 32)                25120     \n",
      "_________________________________________________________________\n",
      "dense_2 (Dense)              (None, 784)               25872     \n",
      "=================================================================\n",
      "Total params: 50,992\n",
      "Trainable params: 50,992\n",
      "Non-trainable params: 0\n",
      "_________________________________________________________________\n"
     ]
    }
   ],
   "source": [
    "autoencoder.compile(optimizer='adadelta', loss='binary_crossentropy')\n",
    "autoencoder.summary()"
   ]
  },
  {
   "cell_type": "code",
   "execution_count": 8,
   "metadata": {
    "colab": {
     "base_uri": "https://localhost:8080/",
     "height": 731
    },
    "colab_type": "code",
    "executionInfo": {
     "elapsed": 36756,
     "status": "ok",
     "timestamp": 1536049342954,
     "user": {
      "displayName": "Shahar Cohen",
      "photoUrl": "//lh4.googleusercontent.com/-2U_qQryj6xw/AAAAAAAAAAI/AAAAAAAAADQ/MGjwPY42BgU/s50-c-k-no/photo.jpg",
      "userId": "114907857355936904602"
     },
     "user_tz": -180
    },
    "id": "g1RH8t2y0G5X",
    "outputId": "dc5f7a36-e939-4baa-8a74-5854f7ecb24e"
   },
   "outputs": [
    {
     "name": "stdout",
     "output_type": "stream",
     "text": [
      "Train on 60000 samples, validate on 10000 samples\n",
      "Epoch 1/20\n",
      "60000/60000 [==============================] - 2s 27us/step - loss: 0.6942 - val_loss: 0.6942\n",
      "Epoch 2/20\n",
      "60000/60000 [==============================] - 2s 26us/step - loss: 0.6941 - val_loss: 0.6940\n",
      "Epoch 3/20\n",
      "60000/60000 [==============================] - 2s 33us/step - loss: 0.6939 - val_loss: 0.6939\n",
      "Epoch 4/20\n",
      "60000/60000 [==============================] - 2s 29us/step - loss: 0.6938 - val_loss: 0.6938\n",
      "Epoch 5/20\n",
      "60000/60000 [==============================] - 2s 25us/step - loss: 0.6937 - val_loss: 0.6936\n",
      "Epoch 6/20\n",
      "60000/60000 [==============================] - 1s 24us/step - loss: 0.6935 - val_loss: 0.6935\n",
      "Epoch 7/20\n",
      "60000/60000 [==============================] - 2s 33us/step - loss: 0.6934 - val_loss: 0.6933\n",
      "Epoch 8/20\n",
      "60000/60000 [==============================] - 2s 34us/step - loss: 0.6932 - val_loss: 0.6932\n",
      "Epoch 9/20\n",
      "60000/60000 [==============================] - 2s 38us/step - loss: 0.6931 - val_loss: 0.6930\n",
      "Epoch 10/20\n",
      "60000/60000 [==============================] - 2s 34us/step - loss: 0.6930 - val_loss: 0.6929\n",
      "Epoch 11/20\n",
      "60000/60000 [==============================] - 2s 26us/step - loss: 0.6928 - val_loss: 0.6928\n",
      "Epoch 12/20\n",
      "60000/60000 [==============================] - 2s 29us/step - loss: 0.6927 - val_loss: 0.6926\n",
      "Epoch 13/20\n",
      "60000/60000 [==============================] - 2s 30us/step - loss: 0.6925 - val_loss: 0.6925\n",
      "Epoch 14/20\n",
      "60000/60000 [==============================] - 2s 30us/step - loss: 0.6924 - val_loss: 0.6924\n",
      "Epoch 15/20\n",
      "60000/60000 [==============================] - 2s 28us/step - loss: 0.6923 - val_loss: 0.6922\n",
      "Epoch 16/20\n",
      "60000/60000 [==============================] - 2s 29us/step - loss: 0.6921 - val_loss: 0.6921\n",
      "Epoch 17/20\n",
      "60000/60000 [==============================] - 2s 30us/step - loss: 0.6920 - val_loss: 0.6920\n",
      "Epoch 18/20\n",
      "60000/60000 [==============================] - 2s 28us/step - loss: 0.6919 - val_loss: 0.6918\n",
      "Epoch 19/20\n",
      "60000/60000 [==============================] - 2s 29us/step - loss: 0.6917 - val_loss: 0.6917\n",
      "Epoch 20/20\n",
      "60000/60000 [==============================] - 2s 29us/step - loss: 0.6916 - val_loss: 0.6915\n"
     ]
    },
    {
     "data": {
      "text/plain": [
       "<keras.callbacks.callbacks.History at 0x154a98cb848>"
      ]
     },
     "execution_count": 8,
     "metadata": {},
     "output_type": "execute_result"
    }
   ],
   "source": [
    "autoencoder.fit(x_train, x_train,\n",
    "                epochs=20,\n",
    "                batch_size=256,\n",
    "                shuffle=True,\n",
    "                validation_data=(x_test, x_test))"
   ]
  },
  {
   "cell_type": "code",
   "execution_count": 9,
   "metadata": {
    "colab": {},
    "colab_type": "code",
    "id": "nri6BNhO0Wu9"
   },
   "outputs": [],
   "source": [
    "# encode and decode some digits\n",
    "# note that we take them from the *test* set\n",
    "encoded_imgs = encoder.predict(x_test)\n",
    "decoded_imgs = decoder.predict(encoded_imgs)"
   ]
  },
  {
   "cell_type": "code",
   "execution_count": 10,
   "metadata": {},
   "outputs": [
    {
     "data": {
      "text/plain": [
       "(32,)"
      ]
     },
     "execution_count": 10,
     "metadata": {},
     "output_type": "execute_result"
    }
   ],
   "source": [
    "encoded_imgs[0].shape"
   ]
  },
  {
   "cell_type": "code",
   "execution_count": 11,
   "metadata": {},
   "outputs": [
    {
     "data": {
      "text/plain": [
       "(784,)"
      ]
     },
     "execution_count": 11,
     "metadata": {},
     "output_type": "execute_result"
    }
   ],
   "source": [
    "decoded_imgs[0].shape"
   ]
  },
  {
   "cell_type": "code",
   "execution_count": 12,
   "metadata": {
    "colab": {
     "base_uri": "https://localhost:8080/",
     "height": 264
    },
    "colab_type": "code",
    "executionInfo": {
     "elapsed": 1700,
     "status": "ok",
     "timestamp": 1536049400856,
     "user": {
      "displayName": "Shahar Cohen",
      "photoUrl": "//lh4.googleusercontent.com/-2U_qQryj6xw/AAAAAAAAAAI/AAAAAAAAADQ/MGjwPY42BgU/s50-c-k-no/photo.jpg",
      "userId": "114907857355936904602"
     },
     "user_tz": -180
    },
    "id": "Hu3MutXD1hyH",
    "outputId": "c02f7d52-d9c5-45c3-ecd0-d5dff7e6c374"
   },
   "outputs": [
    {
     "data": {
      "image/png": "[encoded data removed]",
      "text/plain": [
       "<Figure size 1440x288 with 20 Axes>"
      ]
     },
     "metadata": {
      "needs_background": "light"
     },
     "output_type": "display_data"
    }
   ],
   "source": [
    "# use Matplotlib\n",
    "import matplotlib.pyplot as plt\n",
    "%matplotlib inline \n",
    "\n",
    "n = 10  # how many digits we will display\n",
    "plt.figure(figsize=(20, 4))\n",
    "for i in range(n):\n",
    "    # display original\n",
    "    ax = plt.subplot(2, n, i + 1)\n",
    "    plt.imshow(x_test[i].reshape(28, 28))\n",
    "    plt.gray()\n",
    "    ax.get_xaxis().set_visible(False)\n",
    "    ax.get_yaxis().set_visible(False)\n",
    "\n",
    "    # display reconstruction\n",
    "    ax = plt.subplot(2, n, i + 1 + n)\n",
    "    plt.imshow(decoded_imgs[i].reshape(28, 28))\n",
    "    plt.gray()\n",
    "    ax.get_xaxis().set_visible(False)\n",
    "    ax.get_yaxis().set_visible(False)\n",
    "plt.show()"
   ]
  },
  {
   "cell_type": "markdown",
   "metadata": {
    "colab_type": "text",
    "id": "XzHxZP1H1zTF"
   },
   "source": [
    "## Deep autoencoder\n",
    "Instead of using only 1 hidden layer we will use more in order to capture a more HL concepts."
   ]
  },
  {
   "cell_type": "code",
   "execution_count": 13,
   "metadata": {
    "colab": {
     "base_uri": "https://localhost:8080/",
     "height": 374
    },
    "colab_type": "code",
    "executionInfo": {
     "elapsed": 597,
     "status": "ok",
     "timestamp": 1536049529513,
     "user": {
      "displayName": "Shahar Cohen",
      "photoUrl": "//lh4.googleusercontent.com/-2U_qQryj6xw/AAAAAAAAAAI/AAAAAAAAADQ/MGjwPY42BgU/s50-c-k-no/photo.jpg",
      "userId": "114907857355936904602"
     },
     "user_tz": -180
    },
    "id": "sQVEsBAp1x2u",
    "outputId": "80238d16-fb67-453c-f8d2-97e8eb96e13e"
   },
   "outputs": [
    {
     "name": "stdout",
     "output_type": "stream",
     "text": [
      "Model: \"model_4\"\n",
      "_________________________________________________________________\n",
      "Layer (type)                 Output Shape              Param #   \n",
      "=================================================================\n",
      "input_3 (InputLayer)         (None, 784)               0         \n",
      "_________________________________________________________________\n",
      "dense_3 (Dense)              (None, 128)               100480    \n",
      "_________________________________________________________________\n",
      "dense_4 (Dense)              (None, 64)                8256      \n",
      "_________________________________________________________________\n",
      "dense_5 (Dense)              (None, 32)                2080      \n",
      "_________________________________________________________________\n",
      "dense_6 (Dense)              (None, 64)                2112      \n",
      "_________________________________________________________________\n",
      "dense_7 (Dense)              (None, 128)               8320      \n",
      "_________________________________________________________________\n",
      "dense_8 (Dense)              (None, 784)               101136    \n",
      "=================================================================\n",
      "Total params: 222,384\n",
      "Trainable params: 222,384\n",
      "Non-trainable params: 0\n",
      "_________________________________________________________________\n"
     ]
    }
   ],
   "source": [
    "input_img = Input(shape=(784,))\n",
    "encoded = Dense(128, activation='relu')(input_img)\n",
    "encoded = Dense(64, activation='relu')(encoded)\n",
    "encoded = Dense(32, activation='relu')(encoded)\n",
    "\n",
    "decoded = Dense(64, activation='relu')(encoded)\n",
    "decoded = Dense(128, activation='relu')(decoded)\n",
    "decoded = Dense(784, activation='sigmoid')(decoded)\n",
    "\n",
    "autoencoder = Model(input_img, decoded)\n",
    "autoencoder.compile(optimizer='adadelta', loss='binary_crossentropy')\n",
    "\n",
    "autoencoder.summary()"
   ]
  },
  {
   "cell_type": "code",
   "execution_count": 14,
   "metadata": {
    "colab": {
     "base_uri": "https://localhost:8080/",
     "height": 731
    },
    "colab_type": "code",
    "executionInfo": {
     "elapsed": 61216,
     "status": "ok",
     "timestamp": 1536049596990,
     "user": {
      "displayName": "Shahar Cohen",
      "photoUrl": "//lh4.googleusercontent.com/-2U_qQryj6xw/AAAAAAAAAAI/AAAAAAAAADQ/MGjwPY42BgU/s50-c-k-no/photo.jpg",
      "userId": "114907857355936904602"
     },
     "user_tz": -180
    },
    "id": "tAGFb4A_2N9_",
    "outputId": "a6fb8ada-d1f5-4c05-aab3-bf8e4bf74d5a"
   },
   "outputs": [
    {
     "name": "stdout",
     "output_type": "stream",
     "text": [
      "Train on 60000 samples, validate on 10000 samples\n",
      "Epoch 1/20\n",
      "60000/60000 [==============================] - 4s 66us/step - loss: 0.6919 - val_loss: 0.6918\n",
      "Epoch 2/20\n",
      "60000/60000 [==============================] - 4s 74us/step - loss: 0.6918 - val_loss: 0.6917\n",
      "Epoch 3/20\n",
      "60000/60000 [==============================] - 4s 61us/step - loss: 0.6917 - val_loss: 0.6916\n",
      "Epoch 4/20\n",
      "60000/60000 [==============================] - 4s 59us/step - loss: 0.6916 - val_loss: 0.6915\n",
      "Epoch 5/20\n",
      "60000/60000 [==============================] - 4s 58us/step - loss: 0.6915 - val_loss: 0.6914\n",
      "Epoch 6/20\n",
      "60000/60000 [==============================] - 4s 60us/step - loss: 0.6914 - val_loss: 0.6913\n",
      "Epoch 7/20\n",
      "60000/60000 [==============================] - 3s 56us/step - loss: 0.6913 - val_loss: 0.6912\n",
      "Epoch 8/20\n",
      "60000/60000 [==============================] - 3s 55us/step - loss: 0.6912 - val_loss: 0.6912 0s - loss: 0.69\n",
      "Epoch 9/20\n",
      "60000/60000 [==============================] - 3s 58us/step - loss: 0.6911 - val_loss: 0.6911\n",
      "Epoch 10/20\n",
      "60000/60000 [==============================] - 3s 56us/step - loss: 0.6910 - val_loss: 0.6910\n",
      "Epoch 11/20\n",
      "60000/60000 [==============================] - 4s 60us/step - loss: 0.6909 - val_loss: 0.6909\n",
      "Epoch 12/20\n",
      "60000/60000 [==============================] - 4s 59us/step - loss: 0.6908 - val_loss: 0.6908\n",
      "Epoch 13/20\n",
      "60000/60000 [==============================] - 3s 55us/step - loss: 0.6907 - val_loss: 0.6907\n",
      "Epoch 14/20\n",
      "60000/60000 [==============================] - 3s 43us/step - loss: 0.6906 - val_loss: 0.6906\n",
      "Epoch 15/20\n",
      "60000/60000 [==============================] - 2s 36us/step - loss: 0.6905 - val_loss: 0.6905\n",
      "Epoch 16/20\n",
      "60000/60000 [==============================] - 2s 37us/step - loss: 0.6904 - val_loss: 0.6904\n",
      "Epoch 17/20\n",
      "60000/60000 [==============================] - 2s 36us/step - loss: 0.6903 - val_loss: 0.6903\n",
      "Epoch 18/20\n",
      "60000/60000 [==============================] - 2s 35us/step - loss: 0.6902 - val_loss: 0.6901\n",
      "Epoch 19/20\n",
      "60000/60000 [==============================] - 2s 36us/step - loss: 0.6901 - val_loss: 0.6900\n",
      "Epoch 20/20\n",
      "60000/60000 [==============================] - 2s 35us/step - loss: 0.6900 - val_loss: 0.6899\n"
     ]
    },
    {
     "data": {
      "text/plain": [
       "<keras.callbacks.callbacks.History at 0x154b165e688>"
      ]
     },
     "execution_count": 14,
     "metadata": {},
     "output_type": "execute_result"
    }
   ],
   "source": [
    "autoencoder.fit(x_train, x_train,\n",
    "                epochs=20,\n",
    "                batch_size=256,\n",
    "                shuffle=True,\n",
    "                validation_data=(x_test, x_test))"
   ]
  },
  {
   "cell_type": "code",
   "execution_count": 15,
   "metadata": {
    "colab": {},
    "colab_type": "code",
    "id": "Y1zhHq3p2X_X"
   },
   "outputs": [],
   "source": [
    "# encode and decode some digits\n",
    "# note that we take them from the *test* set\n",
    "encoded_imgs = encoder.predict(x_test)\n",
    "decoded_imgs = decoder.predict(encoded_imgs)"
   ]
  },
  {
   "cell_type": "code",
   "execution_count": 16,
   "metadata": {
    "colab": {
     "base_uri": "https://localhost:8080/",
     "height": 264
    },
    "colab_type": "code",
    "executionInfo": {
     "elapsed": 1543,
     "status": "ok",
     "timestamp": 1536049619167,
     "user": {
      "displayName": "Shahar Cohen",
      "photoUrl": "//lh4.googleusercontent.com/-2U_qQryj6xw/AAAAAAAAAAI/AAAAAAAAADQ/MGjwPY42BgU/s50-c-k-no/photo.jpg",
      "userId": "114907857355936904602"
     },
     "user_tz": -180
    },
    "id": "7ZPf4zSJ2gMW",
    "outputId": "23456e1a-a399-46b8-caf8-dacf6e505210"
   },
   "outputs": [
    {
     "data": {
      "image/png": "[encoded data removed]",
      "text/plain": [
       "<Figure size 1440x288 with 20 Axes>"
      ]
     },
     "metadata": {
      "needs_background": "light"
     },
     "output_type": "display_data"
    }
   ],
   "source": [
    "# use Matplotlib (don't ask)\n",
    "import matplotlib.pyplot as plt\n",
    "\n",
    "n = 10  # how many digits we will display\n",
    "plt.figure(figsize=(20, 4))\n",
    "for i in range(n):\n",
    "    # display original\n",
    "    ax = plt.subplot(2, n, i + 1)\n",
    "    plt.imshow(x_test[i].reshape(28, 28))\n",
    "    plt.gray()\n",
    "    ax.get_xaxis().set_visible(False)\n",
    "    ax.get_yaxis().set_visible(False)\n",
    "\n",
    "    # display reconstruction\n",
    "    ax = plt.subplot(2, n, i + 1 + n)\n",
    "    plt.imshow(decoded_imgs[i].reshape(28, 28))\n",
    "    plt.gray()\n",
    "    ax.get_xaxis().set_visible(False)\n",
    "    ax.get_yaxis().set_visible(False)\n",
    "plt.show()"
   ]
  },
  {
   "cell_type": "markdown",
   "metadata": {
    "colab_type": "text",
    "id": "dduBVN51hcTY"
   },
   "source": [
    "## CNN-Based Autoencoder"
   ]
  },
  {
   "cell_type": "code",
   "execution_count": 17,
   "metadata": {
    "colab": {
     "base_uri": "https://localhost:8080/",
     "height": 612
    },
    "colab_type": "code",
    "executionInfo": {
     "elapsed": 643,
     "status": "ok",
     "timestamp": 1536049743161,
     "user": {
      "displayName": "Shahar Cohen",
      "photoUrl": "//lh4.googleusercontent.com/-2U_qQryj6xw/AAAAAAAAAAI/AAAAAAAAADQ/MGjwPY42BgU/s50-c-k-no/photo.jpg",
      "userId": "114907857355936904602"
     },
     "user_tz": -180
    },
    "id": "ErymvDkHhrhA",
    "outputId": "15fc0182-d138-4805-b4d3-0847b9033dec"
   },
   "outputs": [
    {
     "name": "stdout",
     "output_type": "stream",
     "text": [
      "Model: \"model_5\"\n",
      "_________________________________________________________________\n",
      "Layer (type)                 Output Shape              Param #   \n",
      "=================================================================\n",
      "input_4 (InputLayer)         (None, 28, 28, 1)         0         \n",
      "_________________________________________________________________\n",
      "conv2d_1 (Conv2D)            (None, 28, 28, 16)        160       \n",
      "_________________________________________________________________\n",
      "max_pooling2d_1 (MaxPooling2 (None, 14, 14, 16)        0         \n",
      "_________________________________________________________________\n",
      "conv2d_2 (Conv2D)            (None, 14, 14, 8)         1160      \n",
      "_________________________________________________________________\n",
      "max_pooling2d_2 (MaxPooling2 (None, 7, 7, 8)           0         \n",
      "_________________________________________________________________\n",
      "conv2d_3 (Conv2D)            (None, 7, 7, 8)           584       \n",
      "_________________________________________________________________\n",
      "max_pooling2d_3 (MaxPooling2 (None, 4, 4, 8)           0         \n",
      "_________________________________________________________________\n",
      "conv2d_4 (Conv2D)            (None, 4, 4, 8)           584       \n",
      "_________________________________________________________________\n",
      "up_sampling2d_1 (UpSampling2 (None, 8, 8, 8)           0         \n",
      "_________________________________________________________________\n",
      "conv2d_5 (Conv2D)            (None, 8, 8, 8)           584       \n",
      "_________________________________________________________________\n",
      "up_sampling2d_2 (UpSampling2 (None, 16, 16, 8)         0         \n",
      "_________________________________________________________________\n",
      "conv2d_6 (Conv2D)            (None, 14, 14, 16)        1168      \n",
      "_________________________________________________________________\n",
      "up_sampling2d_3 (UpSampling2 (None, 28, 28, 16)        0         \n",
      "_________________________________________________________________\n",
      "conv2d_7 (Conv2D)            (None, 28, 28, 1)         145       \n",
      "=================================================================\n",
      "Total params: 4,385\n",
      "Trainable params: 4,385\n",
      "Non-trainable params: 0\n",
      "_________________________________________________________________\n"
     ]
    }
   ],
   "source": [
    "from keras.layers import Input, Dense, Conv2D, MaxPooling2D, UpSampling2D\n",
    "from keras.models import Model\n",
    "from keras import backend as K\n",
    "\n",
    "input_img = Input(shape=(28, 28, 1)) \n",
    "\n",
    "x = Conv2D(16, (3, 3), activation='relu', padding='same')(input_img)\n",
    "x = MaxPooling2D((2, 2), padding='same')(x)\n",
    "x = Conv2D(8, (3, 3), activation='relu', padding='same')(x)\n",
    "x = MaxPooling2D((2, 2), padding='same')(x)\n",
    "x = Conv2D(8, (3, 3), activation='relu', padding='same')(x)\n",
    "encoded = MaxPooling2D((2, 2), padding='same')(x)\n",
    "\n",
    "# at this point the representation is (4, 4, 8) i.e. 128-dimensional\n",
    "\n",
    "x = Conv2D(8, (3, 3), activation='relu', padding='same')(encoded)\n",
    "x = UpSampling2D((2, 2))(x)\n",
    "x = Conv2D(8, (3, 3), activation='relu', padding='same')(x)\n",
    "x = UpSampling2D((2, 2))(x)\n",
    "x = Conv2D(16, (3, 3), activation='relu')(x)\n",
    "x = UpSampling2D((2, 2))(x)\n",
    "decoded = Conv2D(1, (3, 3), activation='sigmoid', padding='same')(x)\n",
    "\n",
    "autoencoder = Model(input_img, decoded)\n",
    "autoencoder.compile(optimizer='adadelta', loss='binary_crossentropy')\n",
    "\n",
    "autoencoder.summary()"
   ]
  },
  {
   "cell_type": "markdown",
   "metadata": {
    "colab_type": "text",
    "id": "NUB9HaySiqmo"
   },
   "source": [
    "Let us re-load the data in the right form"
   ]
  },
  {
   "cell_type": "code",
   "execution_count": 18,
   "metadata": {
    "colab": {},
    "colab_type": "code",
    "id": "x0cGutNfit4n"
   },
   "outputs": [],
   "source": [
    "from keras.datasets import mnist\n",
    "import numpy as np\n",
    "\n",
    "(x_train, _), (x_test, _) = mnist.load_data()\n",
    "\n",
    "x_train = x_train.astype('float32') / 255.\n",
    "x_test = x_test.astype('float32') / 255.\n",
    "x_train = np.reshape(x_train, (len(x_train), 28, 28, 1)) \n",
    "x_test = np.reshape(x_test, (len(x_test), 28, 28, 1)) "
   ]
  },
  {
   "cell_type": "code",
   "execution_count": 19,
   "metadata": {
    "colab": {
     "base_uri": "https://localhost:8080/",
     "height": 731
    },
    "colab_type": "code",
    "executionInfo": {
     "elapsed": 168209,
     "status": "ok",
     "timestamp": 1536049943250,
     "user": {
      "displayName": "Shahar Cohen",
      "photoUrl": "//lh4.googleusercontent.com/-2U_qQryj6xw/AAAAAAAAAAI/AAAAAAAAADQ/MGjwPY42BgU/s50-c-k-no/photo.jpg",
      "userId": "114907857355936904602"
     },
     "user_tz": -180
    },
    "id": "S6_VaB5UiWLQ",
    "outputId": "88a455e4-52d2-49fe-b2a5-368f1f856846"
   },
   "outputs": [
    {
     "name": "stdout",
     "output_type": "stream",
     "text": [
      "Train on 60000 samples, validate on 10000 samples\n",
      "Epoch 1/20\n",
      "60000/60000 [==============================] - 69s 1ms/step - loss: 0.6905 - val_loss: 0.6892\n",
      "Epoch 2/20\n",
      "60000/60000 [==============================] - 84s 1ms/step - loss: 0.6873 - val_loss: 0.6849\n",
      "Epoch 3/20\n",
      "60000/60000 [==============================] - 101s 2ms/step - loss: 0.6809 - val_loss: 0.6757\n",
      "Epoch 4/20\n",
      "60000/60000 [==============================] - 104s 2ms/step - loss: 0.6658 - val_loss: 0.6515\n",
      "Epoch 5/20\n",
      "60000/60000 [==============================] - 103s 2ms/step - loss: 0.6174 - val_loss: 0.5663\n",
      "Epoch 6/20\n",
      "60000/60000 [==============================] - 107s 2ms/step - loss: 0.5130 - val_loss: 0.4889\n",
      "Epoch 7/20\n",
      "60000/60000 [==============================] - 89s 1ms/step - loss: 0.4798 - val_loss: 0.4774\n",
      "Epoch 8/20\n",
      "60000/60000 [==============================] - 96s 2ms/step - loss: 0.4692 - val_loss: 0.4673\n",
      "Epoch 9/20\n",
      "60000/60000 [==============================] - 93s 2ms/step - loss: 0.4593 - val_loss: 0.4575\n",
      "Epoch 10/20\n",
      "60000/60000 [==============================] - 89s 1ms/step - loss: 0.4496 - val_loss: 0.4476\n",
      "Epoch 11/20\n",
      "60000/60000 [==============================] - 95s 2ms/step - loss: 0.4395 - val_loss: 0.4372\n",
      "Epoch 12/20\n",
      "60000/60000 [==============================] - 98s 2ms/step - loss: 0.4288 - val_loss: 0.4258\n",
      "Epoch 13/20\n",
      "60000/60000 [==============================] - 97s 2ms/step - loss: 0.4171 - val_loss: 0.4135\n",
      "Epoch 14/20\n",
      "60000/60000 [==============================] - 71s 1ms/step - loss: 0.4044 - val_loss: 0.4000\n",
      "Epoch 15/20\n",
      "60000/60000 [==============================] - 65s 1ms/step - loss: 0.3906 - val_loss: 0.3855\n",
      "Epoch 16/20\n",
      "60000/60000 [==============================] - 65s 1ms/step - loss: 0.3758 - val_loss: 0.3702\n",
      "Epoch 17/20\n",
      "60000/60000 [==============================] - 71s 1ms/step - loss: 0.3605 - val_loss: 0.3544\n",
      "Epoch 18/20\n",
      "60000/60000 [==============================] - 68s 1ms/step - loss: 0.3449 - val_loss: 0.3390\n",
      "Epoch 19/20\n",
      "60000/60000 [==============================] - 65s 1ms/step - loss: 0.3308 - val_loss: 0.3260\n",
      "Epoch 20/20\n",
      "60000/60000 [==============================] - 67s 1ms/step - loss: 0.3194 - val_loss: 0.3160\n"
     ]
    },
    {
     "data": {
      "text/plain": [
       "<keras.callbacks.callbacks.History at 0x154abdee448>"
      ]
     },
     "execution_count": 19,
     "metadata": {},
     "output_type": "execute_result"
    }
   ],
   "source": [
    "autoencoder.fit(x_train, x_train,\n",
    "                epochs=20,\n",
    "                batch_size=128,\n",
    "                shuffle=True,\n",
    "                validation_data=(x_test, x_test))"
   ]
  },
  {
   "cell_type": "code",
   "execution_count": 20,
   "metadata": {
    "colab": {
     "base_uri": "https://localhost:8080/",
     "height": 264
    },
    "colab_type": "code",
    "executionInfo": {
     "elapsed": 2382,
     "status": "ok",
     "timestamp": 1536049951351,
     "user": {
      "displayName": "Shahar Cohen",
      "photoUrl": "//lh4.googleusercontent.com/-2U_qQryj6xw/AAAAAAAAAAI/AAAAAAAAADQ/MGjwPY42BgU/s50-c-k-no/photo.jpg",
      "userId": "114907857355936904602"
     },
     "user_tz": -180
    },
    "id": "MY-Ca89WlDT7",
    "outputId": "852a9b69-8738-413a-977a-1cdb1e92bd05"
   },
   "outputs": [
    {
     "data": {
      "image/png": "[encoded data removed]",
      "text/plain": [
       "<Figure size 1440x288 with 20 Axes>"
      ]
     },
     "metadata": {
      "needs_background": "light"
     },
     "output_type": "display_data"
    }
   ],
   "source": [
    "decoded_imgs = autoencoder.predict(x_test)\n",
    "\n",
    "n = 10\n",
    "plt.figure(figsize=(20, 4))\n",
    "for i in range(n):\n",
    "    # display original\n",
    "    ax = plt.subplot(2, n, i + 1)\n",
    "    plt.imshow(x_test[i].reshape(28, 28))\n",
    "    plt.gray()\n",
    "    ax.get_xaxis().set_visible(False)\n",
    "    ax.get_yaxis().set_visible(False)\n",
    "\n",
    "    # display reconstruction\n",
    "    ax = plt.subplot(2, n, i + 1 + n)\n",
    "    plt.imshow(decoded_imgs[i].reshape(28, 28))\n",
    "    plt.gray()\n",
    "    ax.get_xaxis().set_visible(False)\n",
    "    ax.get_yaxis().set_visible(False)\n",
    "plt.show()"
   ]
  },
  {
   "cell_type": "markdown",
   "metadata": {
    "colab_type": "text",
    "id": "FuyMrKfHlNgn"
   },
   "source": [
    "## Autoencoders with Denoising\n",
    "This time, let's bring noisy images, and let's try to build an autoencoder that will seperate noise from signal.\n",
    "Here's how we will generate synthetic noisy digits: we just apply a gaussian noise matrix and clip the images between 0 and 1."
   ]
  },
  {
   "cell_type": "code",
   "execution_count": 21,
   "metadata": {
    "colab": {},
    "colab_type": "code",
    "id": "VINhHn9YlXqP"
   },
   "outputs": [],
   "source": [
    "from keras.datasets import mnist\n",
    "import numpy as np\n",
    "\n",
    "(x_train, _), (x_test, _) = mnist.load_data()\n",
    "\n",
    "x_train = x_train.astype('float32') / 255.\n",
    "x_test = x_test.astype('float32') / 255.\n",
    "x_train = np.reshape(x_train, (len(x_train), 28, 28, 1))  # adapt this if using `channels_first` image data format\n",
    "x_test = np.reshape(x_test, (len(x_test), 28, 28, 1))  # adapt this if using `channels_first` image data format\n",
    "\n",
    "noise_factor = 0.5\n",
    "x_train_noisy = x_train + noise_factor * np.random.normal(loc=0.0, scale=1.0, size=x_train.shape) \n",
    "x_test_noisy = x_test + noise_factor * np.random.normal(loc=0.0, scale=1.0, size=x_test.shape) \n",
    "\n",
    "x_train_noisy = np.clip(x_train_noisy, 0., 1.)\n",
    "x_test_noisy = np.clip(x_test_noisy, 0., 1.)"
   ]
  },
  {
   "cell_type": "markdown",
   "metadata": {
    "colab_type": "text",
    "id": "NTH7fvFgscZk"
   },
   "source": [
    "Plot the noisy images"
   ]
  },
  {
   "cell_type": "code",
   "execution_count": 22,
   "metadata": {
    "colab": {
     "base_uri": "https://localhost:8080/",
     "height": 145
    },
    "colab_type": "code",
    "executionInfo": {
     "elapsed": 1058,
     "status": "ok",
     "timestamp": 1536049991694,
     "user": {
      "displayName": "Shahar Cohen",
      "photoUrl": "//lh4.googleusercontent.com/-2U_qQryj6xw/AAAAAAAAAAI/AAAAAAAAADQ/MGjwPY42BgU/s50-c-k-no/photo.jpg",
      "userId": "114907857355936904602"
     },
     "user_tz": -180
    },
    "id": "wEkgunnllbmz",
    "outputId": "8884628a-b218-40c0-e936-18b818523c22"
   },
   "outputs": [
    {
     "data": {
      "image/png": "[encoded data removed]",
      "text/plain": [
       "<Figure size 1440x144 with 10 Axes>"
      ]
     },
     "metadata": {
      "needs_background": "light"
     },
     "output_type": "display_data"
    }
   ],
   "source": [
    "import matplotlib.pyplot as plt\n",
    "%matplotlib inline\n",
    "n = 10\n",
    "plt.figure(figsize=(20, 2))\n",
    "for i in range(1,n+1):\n",
    "    ax = plt.subplot(1, n, i)\n",
    "    plt.imshow(x_test_noisy[i].reshape(28, 28))\n",
    "    plt.gray()\n",
    "    ax.get_xaxis().set_visible(False)\n",
    "    ax.get_yaxis().set_visible(False)\n",
    "plt.show()"
   ]
  },
  {
   "cell_type": "markdown",
   "metadata": {
    "colab_type": "text",
    "id": "apQsCCrRlibP"
   },
   "source": [
    "much more noisy now. Let's see what our autoencoder will do"
   ]
  },
  {
   "cell_type": "code",
   "execution_count": 23,
   "metadata": {
    "colab": {},
    "colab_type": "code",
    "id": "UDqGkFQ5lmz6"
   },
   "outputs": [],
   "source": [
    "from keras.layers import Input, Dense, Conv2D, MaxPooling2D, UpSampling2D\n",
    "from keras.models import Model\n",
    "from keras import backend as K\n",
    "\n",
    "\n",
    "input_img = Input(shape=(28, 28, 1))  # adapt this if using `channels_first` image data format\n",
    "\n",
    "x = Conv2D(32, (3, 3), activation='relu', padding='same')(input_img)\n",
    "x = MaxPooling2D((2, 2), padding='same')(x)\n",
    "x = Conv2D(32, (3, 3), activation='relu', padding='same')(x)\n",
    "encoded = MaxPooling2D((2, 2), padding='same')(x)\n",
    "\n",
    "# at this point the representation is (7, 7, 32)\n",
    "\n",
    "x = Conv2D(32, (3, 3), activation='relu', padding='same')(encoded)\n",
    "x = UpSampling2D((2, 2))(x)\n",
    "x = Conv2D(32, (3, 3), activation='relu', padding='same')(x)\n",
    "x = UpSampling2D((2, 2))(x)\n",
    "decoded = Conv2D(1, (3, 3), activation='sigmoid', padding='same')(x)\n",
    "\n",
    "autoencoder = Model(input_img, decoded)\n",
    "autoencoder.compile(optimizer='adadelta', loss='binary_crossentropy')"
   ]
  },
  {
   "cell_type": "code",
   "execution_count": 24,
   "metadata": {
    "colab": {
     "base_uri": "https://localhost:8080/",
     "height": 731
    },
    "colab_type": "code",
    "executionInfo": {
     "elapsed": 171305,
     "status": "ok",
     "timestamp": 1536050240813,
     "user": {
      "displayName": "Shahar Cohen",
      "photoUrl": "//lh4.googleusercontent.com/-2U_qQryj6xw/AAAAAAAAAAI/AAAAAAAAADQ/MGjwPY42BgU/s50-c-k-no/photo.jpg",
      "userId": "114907857355936904602"
     },
     "user_tz": -180
    },
    "id": "pUdOMhB-lqrn",
    "outputId": "3ad7e5d7-008d-499c-eb22-c353a321a524"
   },
   "outputs": [
    {
     "name": "stdout",
     "output_type": "stream",
     "text": [
      "Train on 60000 samples, validate on 10000 samples\n",
      "Epoch 1/20\n",
      "60000/60000 [==============================] - 143s 2ms/step - loss: 0.6785 - val_loss: 0.6730\n",
      "Epoch 2/20\n",
      "60000/60000 [==============================] - 132s 2ms/step - loss: 0.6638 - val_loss: 0.6521\n",
      "Epoch 3/20\n",
      "60000/60000 [==============================] - 135s 2ms/step - loss: 0.6294 - val_loss: 0.5999\n",
      "Epoch 4/20\n",
      "60000/60000 [==============================] - 131s 2ms/step - loss: 0.5562 - val_loss: 0.5185\n",
      "Epoch 5/20\n",
      "60000/60000 [==============================] - 131s 2ms/step - loss: 0.4994 - val_loss: 0.4943\n",
      "Epoch 6/20\n",
      "60000/60000 [==============================] - 125s 2ms/step - loss: 0.4874 - val_loss: 0.4879\n",
      "Epoch 7/20\n",
      "60000/60000 [==============================] - 133s 2ms/step - loss: 0.4811 - val_loss: 0.4817\n",
      "Epoch 8/20\n",
      "60000/60000 [==============================] - 135s 2ms/step - loss: 0.4748 - val_loss: 0.4751\n",
      "Epoch 9/20\n",
      "60000/60000 [==============================] - 148s 2ms/step - loss: 0.4681 - val_loss: 0.4681\n",
      "Epoch 10/20\n",
      "60000/60000 [==============================] - 156s 3ms/step - loss: 0.4609 - val_loss: 0.4606\n",
      "Epoch 11/20\n",
      "60000/60000 [==============================] - 149s 2ms/step - loss: 0.4533 - val_loss: 0.4525\n",
      "Epoch 12/20\n",
      "60000/60000 [==============================] - 152s 3ms/step - loss: 0.4449 - val_loss: 0.4437\n",
      "Epoch 13/20\n",
      "60000/60000 [==============================] - 141s 2ms/step - loss: 0.4356 - val_loss: 0.4337\n",
      "Epoch 14/20\n",
      "60000/60000 [==============================] - 141s 2ms/step - loss: 0.4252 - val_loss: 0.4224\n",
      "Epoch 15/20\n",
      "60000/60000 [==============================] - 133s 2ms/step - loss: 0.4133 - val_loss: 0.4093\n",
      "Epoch 16/20\n",
      "60000/60000 [==============================] - 127s 2ms/step - loss: 0.3993 - val_loss: 0.3941\n",
      "Epoch 17/20\n",
      "60000/60000 [==============================] - 131s 2ms/step - loss: 0.3832 - val_loss: 0.3768\n",
      "Epoch 18/20\n",
      "60000/60000 [==============================] - 149s 2ms/step - loss: 0.3653 - val_loss: 0.3576\n",
      "Epoch 19/20\n",
      "60000/60000 [==============================] - 138s 2ms/step - loss: 0.3453 - val_loss: 0.3362\n",
      "Epoch 20/20\n",
      "60000/60000 [==============================] - 138s 2ms/step - loss: 0.3237 - val_loss: 0.3142\n"
     ]
    },
    {
     "data": {
      "text/plain": [
       "<keras.callbacks.callbacks.History at 0x154afb5dbc8>"
      ]
     },
     "execution_count": 24,
     "metadata": {},
     "output_type": "execute_result"
    }
   ],
   "source": [
    "autoencoder.fit(x_train_noisy, x_train,\n",
    "                epochs=20,\n",
    "                batch_size=128,\n",
    "                shuffle=True,\n",
    "                validation_data=(x_test_noisy, x_test))"
   ]
  },
  {
   "cell_type": "code",
   "execution_count": 25,
   "metadata": {
    "colab": {
     "base_uri": "https://localhost:8080/",
     "height": 264
    },
    "colab_type": "code",
    "executionInfo": {
     "elapsed": 2574,
     "status": "ok",
     "timestamp": 1536050249451,
     "user": {
      "displayName": "Shahar Cohen",
      "photoUrl": "//lh4.googleusercontent.com/-2U_qQryj6xw/AAAAAAAAAAI/AAAAAAAAADQ/MGjwPY42BgU/s50-c-k-no/photo.jpg",
      "userId": "114907857355936904602"
     },
     "user_tz": -180
    },
    "id": "8X9KWZZMmZuJ",
    "outputId": "01216e25-1445-4724-d897-2061561f94a4"
   },
   "outputs": [
    {
     "data": {
      "image/png": "[encoded data removed]",
      "text/plain": [
       "<Figure size 1440x288 with 20 Axes>"
      ]
     },
     "metadata": {
      "needs_background": "light"
     },
     "output_type": "display_data"
    }
   ],
   "source": [
    "decoded_imgs = autoencoder.predict(x_test_noisy)\n",
    "\n",
    "n = 10\n",
    "plt.figure(figsize=(20, 4))\n",
    "for i in range(1,n+1):\n",
    "    # display original\n",
    "    ax = plt.subplot(2, n, i )\n",
    "    plt.imshow(x_test_noisy[i].reshape(28, 28))\n",
    "    plt.gray()\n",
    "    ax.get_xaxis().set_visible(False)\n",
    "    ax.get_yaxis().set_visible(False)\n",
    "\n",
    "    # display reconstruction\n",
    "    ax = plt.subplot(2, n, i + n)\n",
    "    plt.imshow(decoded_imgs[i].reshape(28, 28))\n",
    "    plt.gray()\n",
    "    ax.get_xaxis().set_visible(False)\n",
    "    ax.get_yaxis().set_visible(False)\n",
    "plt.show()"
   ]
  }
 ],
 "metadata": {
  "accelerator": "GPU",
  "colab": {
   "collapsed_sections": [],
   "name": "Autoencoders.ipynb",
   "provenance": [],
   "version": "0.3.2"
  },
  "kernelspec": {
   "display_name": "Python 3",
   "language": "python",
   "name": "python3"
  },
  "language_info": {
   "codemirror_mode": {
    "name": "ipython",
    "version": 3
   },
   "file_extension": ".py",
   "mimetype": "text/x-python",
   "name": "python",
   "nbconvert_exporter": "python",
   "pygments_lexer": "ipython3",
   "version": "3.7.4"
  }
 },
 "nbformat": 4,
 "nbformat_minor": 1
}
